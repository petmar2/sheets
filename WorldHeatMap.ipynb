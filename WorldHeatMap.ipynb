{
  "nbformat": 4,
  "nbformat_minor": 0,
  "metadata": {
    "colab": {
      "name": "Untitled2.ipynb",
      "version": "0.3.2",
      "provenance": [],
      "include_colab_link": true
    },
    "kernelspec": {
      "name": "python3",
      "display_name": "Python 3"
    }
  },
  "cells": [
    {
      "cell_type": "markdown",
      "metadata": {
        "id": "view-in-github",
        "colab_type": "text"
      },
      "source": [
        "[View in Colaboratory](https://colab.research.google.com/github/petmar2/sheets/blob/master/WorldHeatMap.ipynb)"
      ]
    },
    {
      "metadata": {
        "id": "1a2TKgY0TQbO",
        "colab_type": "code",
        "colab": {}
      },
      "cell_type": "code",
      "source": [
        "%matplotlib inline\n",
        "import matplotlib.pyplot as plt\n",
        "from IPython.html.widgets import *\n",
        "import numpy as np\n",
        "\n",
        "\n",
        "def pltsin(f):\n",
        "    x=np.linspace(0,1,100)\n",
        "    plt.plot(x,np.sin(2*np.pi*x*f));\n",
        "    plt.show()\n",
        "  \n",
        "\n",
        "interact(pltsin, f=(1,10,0.1))\n"
      ],
      "execution_count": 0,
      "outputs": []
    },
    {
      "metadata": {
        "id": "wJQXy3JPUlWT",
        "colab_type": "code",
        "colab": {}
      },
      "cell_type": "code",
      "source": [
        "rom ipywidgets import interact, interactive, IntSlider, Layout, interact_manual\n",
        "import ipywidgets as widgets\n",
        "from IPython.display import display\n",
        "\n",
        "import numpy as np\n",
        "import matplotlib.pyplot as plt\n",
        "#%matplotlib inline\n",
        "from netCDF4 import Dataset, num2date, date2num\n",
        "\n",
        "import pandas as pd\n",
        "\n",
        "N_samples = 25\n",
        "x_min = -5\n",
        "x_max = 5\n",
        "x1= np.linspace(x_min,x_max,N_samples*5)\n",
        "x= np.random.choice(x1,size=N_samples)\n",
        "noise_std=1\n",
        "noise_mean=0\n",
        "noise_magnitude = 2\n",
        "\n",
        "def func_gen(N_samples,x_min,x_max,noise_magnitude,noise_sd,noise_mean):\n",
        "    x1= np.linspace(x_min,x_max,N_samples*5)\n",
        "    x= np.random.choice(x1,size=N_samples)\n",
        "    y=2*x-0.6*x**2+0.2*x**3+18*np.sin(x)\n",
        "    y1=2*x1-0.6*x1**2+0.2*x1**3+18*np.sin(x1)\n",
        "    y= y+noise_magnitude*np.random.normal(loc=noise_mean,scale=noise_sd,size=N_samples)\n",
        "    plt.figure(figsize=(8,5))\n",
        "    plt.plot(x1,y1,c='k',lw=2)\n",
        "    plt.scatter(x,y,edgecolors='k',c='yellow',s=60)\n",
        "    plt.grid(True)\n",
        "    plt.show()\n",
        "    return (x,y,x1,y1)\n",
        "\n",
        "\n",
        "\n",
        "p=interactive(func_gen,N_samples={'Low (50 samples)':50,'High (200 samples)':200},x_min=(-5,0,1), x_max=(0,5,1),\n",
        "              noise_magnitude=(0,5,1),noise_sd=(0.1,1,0.1),noise_mean=(-2,2,0.5))\n",
        "display(p)\n",
        "\n"
      ],
      "execution_count": 0,
      "outputs": []
    },
    {
      "metadata": {
        "id": "v9wYqQ6PUmbN",
        "colab_type": "code",
        "colab": {}
      },
      "cell_type": "code",
      "source": [
        "\n",
        "variabs = ['air', 'uwnd', 'vwnd', 'rhum']\n",
        "for vvv in variabs:\n",
        "    for i in range(2000,2019):\n",
        "        !wget ftp://ftp.cdc.noaa.gov/Datasets/ncep.reanalysis.dailyavgs/surface/{vvv}.sig995.{i}.nc\n",
        "\n",
        "air = f.variables['air']\n",
        "\n",
        "plt.imshow(air[0,:,:])\n",
        "\n",
        "def sh(time):\n",
        "    plt.imshow(air[time,:,:])\n",
        "    \n",
        "    \n",
        "sh(100)\n"
      ],
      "execution_count": 0,
      "outputs": []
    },
    {
      "metadata": {
        "id": "9BKFSYFPUmxf",
        "colab_type": "code",
        "colab": {}
      },
      "cell_type": "code",
      "source": [
        "def sh(var='air', time=0):\n",
        "    f = Dataset(var+'.sig995.2000.nc')\n",
        "    vv = f.variables[var]\n",
        "    plt.imshow(vv[time,:,:])\n",
        "    \n",
        "variabs = ['air', 'uwnd', 'vwnd', 'rhum']\n",
        "\n",
        "interact(sh, time=(0,355,1), var=variabs);\n"
      ],
      "execution_count": 0,
      "outputs": []
    },
    {
      "metadata": {
        "id": "ChBMfnTGUnPm",
        "colab_type": "code",
        "colab": {}
      },
      "cell_type": "code",
      "source": [
        "def sh(year='2000',var='air', time=0):\n",
        "    f = Dataset(var+'.sig995.'+year+'.nc')\n",
        "    vv = f.variables[var]\n",
        "    plt.imshow(vv[time,:,:])\n",
        "    \n",
        "years = [str(x) for x in range(2000,2019)]\n",
        "\n",
        "interact(sh, year=years, time=(0,355,1), var=variabs);\n"
      ],
      "execution_count": 0,
      "outputs": []
    },
    {
      "metadata": {
        "id": "Cw5FyFBaU6yy",
        "colab_type": "code",
        "colab": {
          "base_uri": "https://localhost:8080/",
          "height": 351
        },
        "outputId": "0e3e5173-bca1-4898-c6a6-f82d4807bfac"
      },
      "cell_type": "code",
      "source": [
        "import cartopy.crs as ccrs\n",
        "import time as tme\n",
        "import matplotlib.pyplot as plt\n",
        "\n",
        "\n",
        "#m = Basemap(projection='npstere',boundinglat=60,lon_0=0,resolution='l')\n",
        "\n",
        "lon = f.variables['lon'][:]\n",
        "lat = f.variables['lat'][:]\n",
        "lon, lat = np.meshgrid(lon, lat)\n",
        "\n",
        "\n",
        "def sh(year=2000,var='air', FixedColor=False, vm=-3., vma=0., inte=10, time=0):\n",
        "    f = Dataset(var+'.sig995.'+str(year)+'.nc')\n",
        "    vv = f.variables[var]\n",
        "    tt = f.variables['time']\n",
        "    dd = num2date(tt[time], tt.units)\n",
        "\n",
        "    ax = plt.axes(projection=ccrs.PlateCarree())\n",
        "\n",
        "    plt.contourf(lon,lat,vv[time,:,:]-273.15, transform=ccrs.PlateCarree())\n",
        "\n",
        "    ax.coastlines()\n",
        "\n",
        "    plt.colorbar()\n",
        "    plt.title(str(dd))\n",
        "\n",
        "    plt.show()\n",
        "    \n",
        "    \n",
        "#for current_year in [2000,2018]:\n",
        "#    for current_time in [0,354]:\n",
        "#        #print (str(current_year) + \" \" + str(current_time)\n",
        "#        sh (year=current_year, time=current_time)\n",
        "#        tme.sleep(4)\n",
        "        \n",
        "        \n",
        "interact(sh, year=(2000,2019,1), time=(0,355,1), var=variabs,\\\n",
        "         vm=FloatText(value=250), vma=FloatText(value=300), inte=FloatText(value=10));\n"
      ],
      "execution_count": 1,
      "outputs": [
        {
          "output_type": "error",
          "ename": "ModuleNotFoundError",
          "evalue": "ignored",
          "traceback": [
            "\u001b[0;31m---------------------------------------------------------------------------\u001b[0m",
            "\u001b[0;31mModuleNotFoundError\u001b[0m                       Traceback (most recent call last)",
            "\u001b[0;32m<ipython-input-1-cd564d335973>\u001b[0m in \u001b[0;36m<module>\u001b[0;34m()\u001b[0m\n\u001b[0;32m----> 1\u001b[0;31m \u001b[0;32mimport\u001b[0m \u001b[0mcartopy\u001b[0m\u001b[0;34m.\u001b[0m\u001b[0mcrs\u001b[0m \u001b[0;32mas\u001b[0m \u001b[0mccrs\u001b[0m\u001b[0;34m\u001b[0m\u001b[0m\n\u001b[0m\u001b[1;32m      2\u001b[0m \u001b[0;32mimport\u001b[0m \u001b[0mtime\u001b[0m \u001b[0;32mas\u001b[0m \u001b[0mtme\u001b[0m\u001b[0;34m\u001b[0m\u001b[0m\n\u001b[1;32m      3\u001b[0m \u001b[0;32mimport\u001b[0m \u001b[0mmatplotlib\u001b[0m\u001b[0;34m.\u001b[0m\u001b[0mpyplot\u001b[0m \u001b[0;32mas\u001b[0m \u001b[0mplt\u001b[0m\u001b[0;34m\u001b[0m\u001b[0m\n\u001b[1;32m      4\u001b[0m \u001b[0;34m\u001b[0m\u001b[0m\n\u001b[1;32m      5\u001b[0m \u001b[0;34m\u001b[0m\u001b[0m\n",
            "\u001b[0;31mModuleNotFoundError\u001b[0m: No module named 'cartopy'",
            "",
            "\u001b[0;31m---------------------------------------------------------------------------\u001b[0;32m\nNOTE: If your import is failing due to a missing package, you can\nmanually install dependencies using either !pip or !apt.\n\nTo install cartopy, click the button below.\n\u001b[0;31m---------------------------------------------------------------------------\u001b[0m\n"
          ]
        }
      ]
    },
    {
      "metadata": {
        "id": "aSlk93bIU77q",
        "colab_type": "code",
        "colab": {}
      },
      "cell_type": "code",
      "source": [
        "\n",
        "import cartopy.crs as ccrs\n",
        "import matplotlib.pyplot as plt\n",
        "\n",
        "ax = plt.axes(projection=ccrs.PlateCarree())\n",
        "ax.coastlines()\n",
        "\n",
        "plt.show()\n",
        "\n",
        "\n"
      ],
      "execution_count": 0,
      "outputs": []
    },
    {
      "metadata": {
        "id": "d90zvV_2U8Q4",
        "colab_type": "code",
        "colab": {}
      },
      "cell_type": "code",
      "source": [
        "sheet = ipysheet.sheet()\n",
        "sheet\n",
        "\n",
        "sheet = ipysheet.sheet(rows=3, columns=4)\n",
        "cell1 = ipysheet.cell(0, 0, 'Hello')\n",
        "cell2 = ipysheet.cell(2, 0, 'World')\n",
        "cell_value = ipysheet.cell(2,2, 42.)\n",
        "sheet\n"
      ],
      "execution_count": 0,
      "outputs": []
    },
    {
      "metadata": {
        "id": "XB6B3FyHVKIo",
        "colab_type": "code",
        "colab": {}
      },
      "cell_type": "code",
      "source": [
        "import ipywidgets as widgets\n",
        "sheet = ipysheet.sheet(rows=3, columns=2, column_headers=False, row_headers=False)\n",
        "cell_a = ipysheet.cell(0, 1, 1, label_left='a')\n",
        "cell_b = ipysheet.cell(1, 1, 2, label_left='b')\n",
        "cell_sum = ipysheet.cell(2, 1, 3, label_left='sum', read_only=True)\n",
        "\n",
        "# create a slider linked to cell a\n",
        "slider = widgets.FloatSlider(min=-10, max=10, description='a')\n",
        "widgets.jslink((cell_a, 'value'), (slider, 'value'))\n",
        "\n",
        "# changes in a or b should trigger this function\n",
        "def calculate(change):\n",
        "    cell_sum.value = cell_a.value + cell_b.value\n",
        "\n",
        "cell_a.observe(calculate, 'value')\n",
        "cell_b.observe(calculate, 'value')\n",
        "\n",
        "\n",
        "widgets.VBox([sheet, slider])"
      ],
      "execution_count": 0,
      "outputs": []
    }
  ]
}